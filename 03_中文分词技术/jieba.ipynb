{
 "cells": [
  {
   "cell_type": "code",
   "execution_count": 1,
   "metadata": {
    "collapsed": false
   },
   "outputs": [
    {
     "name": "stderr",
     "output_type": "stream",
     "text": [
      "Building prefix dict from the default dictionary ...\n"
     ]
    },
    {
     "name": "stderr",
     "output_type": "stream",
     "text": [
      "Dumping model to file cache C:\\Users\\cp\\AppData\\Local\\Temp\\jieba.cache\n"
     ]
    },
    {
     "name": "stderr",
     "output_type": "stream",
     "text": [
      "Loading model cost 1.086 seconds.\n"
     ]
    },
    {
     "name": "stderr",
     "output_type": "stream",
     "text": [
      "Prefix dict has been built succesfully.\n"
     ]
    },
    {
     "name": "stdout",
     "output_type": "stream",
     "text": [
      "全模式： 中文/ 分词/ 是/ 文本/ 文本处理/ 本处/ 处理/ 不可/ 不可或缺/ 或缺/ 的/ 一步/ / \n精确模式： 中文/ 分词/ 是/ 文本处理/ 不可或缺/ 的/ 一步/ ！\n默认精确模式： 中文/ 分词/ 是/ 文本处理/ 不可或缺/ 的/ 一步/ ！\n搜索引擎模式 中文/ 分词/ 是/ 文本/ 本处/ 处理/ 文本处理/ 不可/ 或缺/ 不可或缺/ 的/ 一步/ ！\n"
     ]
    }
   ],
   "source": [
    "import jieba\n",
    "\n",
    "sent = '中文分词是文本处理不可或缺的一步！'\n",
    "\n",
    "seg_list = jieba.cut(sent, cut_all=True)\n",
    "\n",
    "print('全模式：', '/ ' .join(seg_list)) \n",
    "\n",
    "seg_list = jieba.cut(sent, cut_all=False)\n",
    "print('精确模式：', '/ '.join(seg_list)) \n",
    "\n",
    "seg_list = jieba.cut(sent)  \n",
    "print('默认精确模式：', '/ '.join(seg_list))\n",
    "\n",
    "seg_list = jieba.cut_for_search(sent)  \n",
    "print('搜索引擎模式', '/ '.join(seg_list))"
   ]
  },
  {
   "cell_type": "code",
   "execution_count": 3,
   "metadata": {
    "collapsed": false
   },
   "outputs": [
    {
     "name": "stdout",
     "output_type": "stream",
     "text": [
      "中文/nz 分词/n 是/v 文本处理/n 不可或缺/l 的/uj 一步/m ！/x\n"
     ]
    }
   ],
   "source": [
    "import jieba.posseg as psg      # posseg(词性标注) 词性标注也叫词类标注。POS tagging是part-of-speech tagging的缩写\n",
    "\n",
    "sent = '中文分词是文本处理不可或缺的一步！'\n",
    "\n",
    "seg_list = psg.cut(sent)        # 返回的是生成器\n",
    "\n",
    "print(' '.join(['{0}/{1}'.format(w, t) for w, t in seg_list]))"
   ]
  },
  {
   "cell_type": "code",
   "execution_count": 4,
   "metadata": {
    "collapsed": false
   },
   "outputs": [
    {
     "ename": "Exception",
     "evalue": "jieba: file does not exist: C:\\Users\\cp\\Documents\\data\\dict.txt.big",
     "traceback": [
      "\u001b[1;31m---------------------------------------------------------------------------\u001b[0m",
      "\u001b[1;31mException\u001b[0m                                 Traceback (most recent call last)",
      "\u001b[1;32m<ipython-input-4-af19c039dada>\u001b[0m in \u001b[0;36m<module>\u001b[1;34m()\u001b[0m\n\u001b[0;32m      1\u001b[0m \u001b[1;32mimport\u001b[0m \u001b[0mjieba\u001b[0m\u001b[1;33m\u001b[0m\u001b[0m\n\u001b[0;32m      2\u001b[0m \u001b[1;31m# 加载系统词典\u001b[0m\u001b[1;33m\u001b[0m\u001b[1;33m\u001b[0m\u001b[0m\n\u001b[1;32m----> 3\u001b[1;33m \u001b[0mjieba\u001b[0m\u001b[1;33m.\u001b[0m\u001b[0mset_dictionary\u001b[0m\u001b[1;33m(\u001b[0m\u001b[1;34m'./data/dict.txt.big'\u001b[0m\u001b[1;33m)\u001b[0m\u001b[1;33m\u001b[0m\u001b[0m\n\u001b[0m\u001b[0;32m      4\u001b[0m \u001b[1;33m\u001b[0m\u001b[0m\n\u001b[0;32m      5\u001b[0m \u001b[0mprint\u001b[0m\u001b[1;33m(\u001b[0m\u001b[1;34m'自定义词典内容：'\u001b[0m\u001b[1;33m)\u001b[0m\u001b[1;33m\u001b[0m\u001b[0m\n",
      "\u001b[1;32mE:\\program\\Anaconda3\\lib\\site-packages\\jieba\\__init__.py\u001b[0m in \u001b[0;36mset_dictionary\u001b[1;34m(self, dictionary_path)\u001b[0m\n\u001b[0;32m    487\u001b[0m             \u001b[0mabs_path\u001b[0m \u001b[1;33m=\u001b[0m \u001b[0m_get_abs_path\u001b[0m\u001b[1;33m(\u001b[0m\u001b[0mdictionary_path\u001b[0m\u001b[1;33m)\u001b[0m\u001b[1;33m\u001b[0m\u001b[0m\n\u001b[0;32m    488\u001b[0m             \u001b[1;32mif\u001b[0m \u001b[1;32mnot\u001b[0m \u001b[0mos\u001b[0m\u001b[1;33m.\u001b[0m\u001b[0mpath\u001b[0m\u001b[1;33m.\u001b[0m\u001b[0misfile\u001b[0m\u001b[1;33m(\u001b[0m\u001b[0mabs_path\u001b[0m\u001b[1;33m)\u001b[0m\u001b[1;33m:\u001b[0m\u001b[1;33m\u001b[0m\u001b[0m\n\u001b[1;32m--> 489\u001b[1;33m                 \u001b[1;32mraise\u001b[0m \u001b[0mException\u001b[0m\u001b[1;33m(\u001b[0m\u001b[1;34m\"jieba: file does not exist: \"\u001b[0m \u001b[1;33m+\u001b[0m \u001b[0mabs_path\u001b[0m\u001b[1;33m)\u001b[0m\u001b[1;33m\u001b[0m\u001b[0m\n\u001b[0m\u001b[0;32m    490\u001b[0m             \u001b[0mself\u001b[0m\u001b[1;33m.\u001b[0m\u001b[0mdictionary\u001b[0m \u001b[1;33m=\u001b[0m \u001b[0mabs_path\u001b[0m\u001b[1;33m\u001b[0m\u001b[0m\n\u001b[0;32m    491\u001b[0m             \u001b[0mself\u001b[0m\u001b[1;33m.\u001b[0m\u001b[0minitialized\u001b[0m \u001b[1;33m=\u001b[0m \u001b[1;32mFalse\u001b[0m\u001b[1;33m\u001b[0m\u001b[0m\n",
      "\u001b[1;31mException\u001b[0m: jieba: file does not exist: C:\\Users\\cp\\Documents\\data\\dict.txt.big"
     ],
     "output_type": "error"
    }
   ],
   "source": [
    "import jieba \n",
    "# 加载系统词典\n",
    "jieba.set_dictionary('./data/dict.txt.big')\n",
    "\n",
    "print('自定义词典内容：')\n",
    "with open('./data/user_dict.utf8', 'r') as f:\n",
    "    for l in f:\n",
    "        print(l)\n",
    "\n",
    "print('------华丽的分割线-------')\n",
    "sent = 'jieba分词非常好用，可以自定义金融词典！'\n",
    "seg_list = jieba.cut(sent)\n",
    "print('加载词典前:', '/ '.join(seg_list))\n",
    "\n",
    "jieba.load_userdict('./data/user_dict.utf8')\n",
    "seg_list = jieba.cut(sent)\n",
    "print('加载词典后:', '/ '.join(seg_list))"
   ]
  },
  {
   "cell_type": "code",
   "execution_count": 5,
   "metadata": {
    "collapsed": false
   },
   "outputs": [
    {
     "name": "stdout",
     "output_type": "stream",
     "text": [
      "好丑/ 的/ 证件/ 照片\n好丑/ 的/ 证件照片\n"
     ]
    }
   ],
   "source": [
    "import jieba\n",
    "sent = '好丑的证件照片'\n",
    "print('/ '.join(jieba.cut(sent, HMM=False)))\n",
    "\n",
    "jieba.suggest_freq(('证件照片'), True)\n",
    "print('/ '.join(jieba.cut(sent, HMM=False)))"
   ]
  },
  {
   "cell_type": "code",
   "execution_count": 6,
   "metadata": {
    "collapsed": false
   },
   "outputs": [
    {
     "ename": "Exception",
     "evalue": "jieba: file does not exist: C:\\Users\\cp\\Documents\\data\\idf.txt.big",
     "traceback": [
      "\u001b[1;31m---------------------------------------------------------------------------\u001b[0m",
      "\u001b[1;31mException\u001b[0m                                 Traceback (most recent call last)",
      "\u001b[1;32m<ipython-input-6-a9e1f98b458e>\u001b[0m in \u001b[0;36m<module>\u001b[1;34m()\u001b[0m\n\u001b[0;32m      8\u001b[0m \u001b[1;33m\u001b[0m\u001b[0m\n\u001b[0;32m      9\u001b[0m \u001b[1;31m#加载自定义idf词典\u001b[0m\u001b[1;33m\u001b[0m\u001b[1;33m\u001b[0m\u001b[0m\n\u001b[1;32m---> 10\u001b[1;33m \u001b[0maly\u001b[0m\u001b[1;33m.\u001b[0m\u001b[0mset_idf_path\u001b[0m\u001b[1;33m(\u001b[0m\u001b[1;34m'./data/idf.txt.big'\u001b[0m\u001b[1;33m)\u001b[0m\u001b[1;33m\u001b[0m\u001b[0m\n\u001b[0m\u001b[0;32m     11\u001b[0m \u001b[1;31m#加载停用词典\u001b[0m\u001b[1;33m\u001b[0m\u001b[1;33m\u001b[0m\u001b[0m\n\u001b[0;32m     12\u001b[0m \u001b[0maly\u001b[0m\u001b[1;33m.\u001b[0m\u001b[0mset_stop_words\u001b[0m\u001b[1;33m(\u001b[0m\u001b[1;34m'./data/stop_words.utf8'\u001b[0m\u001b[1;33m)\u001b[0m\u001b[1;33m\u001b[0m\u001b[0m\n",
      "\u001b[1;32mE:\\program\\Anaconda3\\lib\\site-packages\\jieba\\analyse\\tfidf.py\u001b[0m in \u001b[0;36mset_idf_path\u001b[1;34m(self, idf_path)\u001b[0m\n\u001b[0;32m     69\u001b[0m         \u001b[0mnew_abs_path\u001b[0m \u001b[1;33m=\u001b[0m \u001b[0m_get_abs_path\u001b[0m\u001b[1;33m(\u001b[0m\u001b[0midf_path\u001b[0m\u001b[1;33m)\u001b[0m\u001b[1;33m\u001b[0m\u001b[0m\n\u001b[0;32m     70\u001b[0m         \u001b[1;32mif\u001b[0m \u001b[1;32mnot\u001b[0m \u001b[0mos\u001b[0m\u001b[1;33m.\u001b[0m\u001b[0mpath\u001b[0m\u001b[1;33m.\u001b[0m\u001b[0misfile\u001b[0m\u001b[1;33m(\u001b[0m\u001b[0mnew_abs_path\u001b[0m\u001b[1;33m)\u001b[0m\u001b[1;33m:\u001b[0m\u001b[1;33m\u001b[0m\u001b[0m\n\u001b[1;32m---> 71\u001b[1;33m             \u001b[1;32mraise\u001b[0m \u001b[0mException\u001b[0m\u001b[1;33m(\u001b[0m\u001b[1;34m\"jieba: file does not exist: \"\u001b[0m \u001b[1;33m+\u001b[0m \u001b[0mnew_abs_path\u001b[0m\u001b[1;33m)\u001b[0m\u001b[1;33m\u001b[0m\u001b[0m\n\u001b[0m\u001b[0;32m     72\u001b[0m         \u001b[0mself\u001b[0m\u001b[1;33m.\u001b[0m\u001b[0midf_loader\u001b[0m\u001b[1;33m.\u001b[0m\u001b[0mset_new_path\u001b[0m\u001b[1;33m(\u001b[0m\u001b[0mnew_abs_path\u001b[0m\u001b[1;33m)\u001b[0m\u001b[1;33m\u001b[0m\u001b[0m\n\u001b[0;32m     73\u001b[0m         \u001b[0mself\u001b[0m\u001b[1;33m.\u001b[0m\u001b[0midf_freq\u001b[0m\u001b[1;33m,\u001b[0m \u001b[0mself\u001b[0m\u001b[1;33m.\u001b[0m\u001b[0mmedian_idf\u001b[0m \u001b[1;33m=\u001b[0m \u001b[0mself\u001b[0m\u001b[1;33m.\u001b[0m\u001b[0midf_loader\u001b[0m\u001b[1;33m.\u001b[0m\u001b[0mget_idf\u001b[0m\u001b[1;33m(\u001b[0m\u001b[1;33m)\u001b[0m\u001b[1;33m\u001b[0m\u001b[0m\n",
      "\u001b[1;31mException\u001b[0m: jieba: file does not exist: C:\\Users\\cp\\Documents\\data\\idf.txt.big"
     ],
     "output_type": "error"
    }
   ],
   "source": [
    "import jieba.analyse as aly\n",
    "\n",
    "content = '''\n",
    "自然语言处理（NLP）是计算机科学，人工智能，语言学关注计算机和人类（自然）语言之间的相互作用的领域。\n",
    "因此，自然语言处理是与人机交互的领域有关的。在自然语言处理面临很多挑战，包括自然语言理解，因此，自然语言处理涉及人机交互的面积。\n",
    "在NLP诸多挑战涉及自然语言理解，即计算机源于人为或自然语言输入的意思，和其他涉及到自然语言生成。\n",
    "'''\n",
    "\n",
    "# 加载自定义idf词典\n",
    "aly.set_idf_path('./data/idf.txt.big')\n",
    "# 加载停用词典\n",
    "aly.set_stop_words('./data/stop_words.utf8')\n",
    "\n",
    "# 第一个参数：待提取关键词的文本\n",
    "# 第二个参数：返回关键词的数量，重要性从高到低排序\n",
    "# 第三个参数：是否同时返回每个关键词的权重\n",
    "# 第四个参数：词性过滤，为空表示不过滤，若提供则仅返回符合词性要求的关键词\n",
    "keywords = aly.extract_tags(content, topK=10, withWeight=True, allowPOS=())\n",
    " \n",
    "for item in keywords:\n",
    "    # 分别为关键词和相应的权重\n",
    "    print(item[0], item[1])"
   ]
  },
  {
   "cell_type": "code",
   "execution_count": 8,
   "metadata": {
    "collapsed": false
   },
   "outputs": [
    {
     "name": "stdout",
     "output_type": "stream",
     "text": [
      "涉及 1.0\n计算机 0.9727528350523765\n人机交互 0.8641887849445328\n处理 0.8077212153734321\n理解 0.7940439733806476\n挑战 0.7865807951744963\n语言学 0.7365415954925192\n人类 0.6368931752304725\n人工智能 0.5882007068202977\n关注 0.5850342536669451\n"
     ]
    }
   ],
   "source": [
    "import jieba.analyse as aly\n",
    "\n",
    "content = '''\n",
    "自然语言处理（NLP）是计算机科学，人工智能，语言学关注计算机和人类（自然）语言之间的相互作用的领域。\n",
    "因此，自然语言处理是与人机交互的领域有关的。在自然语言处理面临很多挑战，包括自然语言理解，因此，自然语言处理涉及人机交互的面积。\n",
    "在NLP诸多挑战涉及自然语言理解，即计算机源于人为或自然语言输入的意思，和其他涉及到自然语言生成。\n",
    "'''\n",
    "# 第一个参数：待提取关键词的文本\n",
    "# 第二个参数：返回关键词的数量，重要性从高到低排序\n",
    "# 第三个参数：是否同时返回每个关键词的权重\n",
    "# 第四个参数：词性过滤，为空表示过滤所有，与TF—IDF不一样！\n",
    "keywords = jieba.analyse.textrank(content, topK=10, withWeight=True, allowPOS=('ns', 'n', 'vn', 'v'))\n",
    "for item in keywords:\n",
    "    # 分别为关键词和相应的权重\n",
    "    print(item[0], item[1])"
   ]
  },
  {
   "cell_type": "code",
   "execution_count": null,
   "metadata": {
    "collapsed": true
   },
   "outputs": [],
   "source": [
    ""
   ]
  }
 ],
 "metadata": {
  "kernelspec": {
   "display_name": "Python [conda env:py3.6]",
   "language": "python",
   "name": "conda-env-py3.6-py"
  },
  "language_info": {
   "codemirror_mode": {
    "name": "ipython",
    "version": 3
   },
   "file_extension": ".py",
   "mimetype": "text/x-python",
   "name": "python",
   "nbconvert_exporter": "python",
   "pygments_lexer": "ipython3",
   "version": "3.6.1"
  }
 },
 "nbformat": 4,
 "nbformat_minor": 0
}
